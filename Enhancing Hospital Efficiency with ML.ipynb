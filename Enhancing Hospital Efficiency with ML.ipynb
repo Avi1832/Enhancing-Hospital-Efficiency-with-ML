{
 "cells": [
  {
   "cell_type": "markdown",
   "id": "d1556d87-e7c6-4ade-a7c6-a2657a873059",
   "metadata": {},
   "source": [
    "Module 1\n",
    "\r",
    " Analyzing the train data.f."
   ]
  },
  {
   "cell_type": "code",
   "execution_count": 1,
   "id": "4814a9ae-3c5a-40bf-8d12-316b35a9bc81",
   "metadata": {},
   "outputs": [],
   "source": [
    "import pandas as pd"
   ]
  },
  {
   "cell_type": "code",
   "execution_count": 2,
   "id": "17c9be70-b58a-4023-a1f8-b5db477e2b31",
   "metadata": {},
   "outputs": [
    {
     "name": "stdout",
     "output_type": "stream",
     "text": [
      "      case_id  Hospital_code Hospital_type_code  City_Code_Hospital  \\\n",
      "0           1              8                  c                   3   \n",
      "1           2              2                  c                   5   \n",
      "2           3             10                  e                   1   \n",
      "3           4             26                  b                   2   \n",
      "4           5             26                  b                   2   \n",
      "...       ...            ...                ...                 ...   \n",
      "4995     4996             19                  a                   7   \n",
      "4996     4997             26                  b                   2   \n",
      "4997     4998             32                  f                   9   \n",
      "4998     4999             26                  b                   2   \n",
      "4999     5000              9                  d                   5   \n",
      "\n",
      "     Hospital_region_code  Available Extra Rooms in Hospital    Department  \\\n",
      "0                       Z                                  3  radiotherapy   \n",
      "1                       Z                                  2  radiotherapy   \n",
      "2                       X                                  2    anesthesia   \n",
      "3                       Y                                  2  radiotherapy   \n",
      "4                       Y                                  2  radiotherapy   \n",
      "...                   ...                                ...           ...   \n",
      "4995                    Y                                  2    gynecology   \n",
      "4996                    Y                                  2    gynecology   \n",
      "4997                    Y                                  3    gynecology   \n",
      "4998                    Y                                  3    gynecology   \n",
      "4999                    Z                                  4    anesthesia   \n",
      "\n",
      "     Ward_Type Ward_Facility_Code  Bed Grade  patientid  City_Code_Patient  \\\n",
      "0            R                  F        2.0      31397                7.0   \n",
      "1            S                  F        2.0      31397                7.0   \n",
      "2            S                  E        2.0      31397                7.0   \n",
      "3            R                  D        2.0      31397                7.0   \n",
      "4            S                  D        2.0      31397                7.0   \n",
      "...        ...                ...        ...        ...                ...   \n",
      "4995         S                  C        2.0     104970                8.0   \n",
      "4996         Q                  D        4.0     104970                8.0   \n",
      "4997         S                  B        2.0      68447                5.0   \n",
      "4998         R                  D        2.0      68447                5.0   \n",
      "4999         R                  F        4.0      68447                5.0   \n",
      "\n",
      "     Type of Admission Severity of Illness  Visitors with Patient    Age  \\\n",
      "0            Emergency             Extreme                      2  51-60   \n",
      "1               Trauma             Extreme                      2  51-60   \n",
      "2               Trauma             Extreme                      2  51-60   \n",
      "3               Trauma             Extreme                      2  51-60   \n",
      "4               Trauma             Extreme                      2  51-60   \n",
      "...                ...                 ...                    ...    ...   \n",
      "4995         Emergency               Minor                      2  11-20   \n",
      "4996            Trauma               Minor                      2  11-20   \n",
      "4997         Emergency            Moderate                      4  41-50   \n",
      "4998            Trauma            Moderate                      3  41-50   \n",
      "4999            Trauma            Moderate                      2  41-50   \n",
      "\n",
      "      Admission_Deposit   Stay  \n",
      "0                4911.0   0-10  \n",
      "1                5954.0  41-50  \n",
      "2                4745.0  31-40  \n",
      "3                7272.0  41-50  \n",
      "4                5558.0  41-50  \n",
      "...                 ...    ...  \n",
      "4995             4894.0   0-10  \n",
      "4996             6987.0  31-40  \n",
      "4997             4196.0  51-60  \n",
      "4998             4560.0  21-30  \n",
      "4999             6315.0  11-20  \n",
      "\n",
      "[5000 rows x 18 columns]\n"
     ]
    }
   ],
   "source": [
    "train = pd.read_csv(\"C:\\\\Users\\\\abhit\\\\OneDrive\\\\Desktop\\\\submissions\\\\train.csv\")\n",
    "print(train)"
   ]
  },
  {
   "cell_type": "markdown",
   "id": "ea656d87-6208-4e05-93fa-b86230b63e23",
   "metadata": {},
   "source": [
    " Decoding the test data"
   ]
  },
  {
   "cell_type": "code",
   "execution_count": 4,
   "id": "d37cd18a-5a3e-45d2-8760-3c3f152cd362",
   "metadata": {},
   "outputs": [
    {
     "name": "stdout",
     "output_type": "stream",
     "text": [
      "      case_id  Hospital_code Hospital_type_code  City_Code_Hospital  \\\n",
      "0      318439             21                  c                   3   \n",
      "1      318440             29                  a                   4   \n",
      "2      318441             26                  b                   2   \n",
      "3      318442              6                  a                   6   \n",
      "4      318443             28                  b                  11   \n",
      "...       ...            ...                ...                 ...   \n",
      "1995   320434             26                  b                   2   \n",
      "1996   320435             26                  b                   2   \n",
      "1997   320436             23                  a                   6   \n",
      "1998   320437             25                  e                   1   \n",
      "1999   320438             10                  e                   1   \n",
      "\n",
      "     Hospital_region_code  Available Extra Rooms in Hospital  Department  \\\n",
      "0                       Z                                  3  gynecology   \n",
      "1                       X                                  2  gynecology   \n",
      "2                       Y                                  3  gynecology   \n",
      "3                       X                                  3  gynecology   \n",
      "4                       X                                  2  gynecology   \n",
      "...                   ...                                ...         ...   \n",
      "1995                    Y                                  1  anesthesia   \n",
      "1996                    Y                                  4  gynecology   \n",
      "1997                    X                                  3  gynecology   \n",
      "1998                    X                                  4  gynecology   \n",
      "1999                    X                                  4  gynecology   \n",
      "\n",
      "     Ward_Type Ward_Facility_Code  Bed Grade  patientid  City_Code_Patient  \\\n",
      "0            S                  A        2.0      17006                2.0   \n",
      "1            S                  F        2.0      17006                2.0   \n",
      "2            Q                  D        4.0      17006                2.0   \n",
      "3            Q                  F        2.0      17006                2.0   \n",
      "4            R                  F        2.0      17006                2.0   \n",
      "...        ...                ...        ...        ...                ...   \n",
      "1995         R                  D        2.0      19303                8.0   \n",
      "1996         R                  D        1.0      19303                8.0   \n",
      "1997         Q                  F        1.0      19303                8.0   \n",
      "1998         Q                  E        3.0      19303                8.0   \n",
      "1999         Q                  E        2.0      19303                8.0   \n",
      "\n",
      "     Type of Admission Severity of Illness  Visitors with Patient    Age  \\\n",
      "0            Emergency            Moderate                      2  71-80   \n",
      "1               Trauma            Moderate                      4  71-80   \n",
      "2            Emergency            Moderate                      3  71-80   \n",
      "3               Trauma            Moderate                      3  71-80   \n",
      "4               Trauma            Moderate                      4  71-80   \n",
      "...                ...                 ...                    ...    ...   \n",
      "1995            Trauma             Extreme                      4  51-60   \n",
      "1996            Trauma             Extreme                      6  51-60   \n",
      "1997            Trauma             Extreme                      3  51-60   \n",
      "1998         Emergency             Extreme                      4  51-60   \n",
      "1999         Emergency             Extreme                      3  51-60   \n",
      "\n",
      "      Admission_Deposit  \n",
      "0                3095.0  \n",
      "1                4018.0  \n",
      "2                4492.0  \n",
      "3                4173.0  \n",
      "4                4161.0  \n",
      "...                 ...  \n",
      "1995             8829.0  \n",
      "1996             3507.0  \n",
      "1997             4109.0  \n",
      "1998             4155.0  \n",
      "1999             4161.0  \n",
      "\n",
      "[2000 rows x 17 columns]\n"
     ]
    },
    {
     "data": {
      "text/plain": [
       "case_id                                int64\n",
       "Hospital_code                          int64\n",
       "Hospital_type_code                    object\n",
       "City_Code_Hospital                     int64\n",
       "Hospital_region_code                  object\n",
       "Available Extra Rooms in Hospital      int64\n",
       "Department                            object\n",
       "Ward_Type                             object\n",
       "Ward_Facility_Code                    object\n",
       "Bed Grade                            float64\n",
       "patientid                              int64\n",
       "City_Code_Patient                    float64\n",
       "Type of Admission                     object\n",
       "Severity of Illness                   object\n",
       "Visitors with Patient                  int64\n",
       "Age                                   object\n",
       "Admission_Deposit                    float64\n",
       "dtype: object"
      ]
     },
     "execution_count": 4,
     "metadata": {},
     "output_type": "execute_result"
    }
   ],
   "source": [
    "test = pd.read_csv(\"C:\\\\Users\\\\abhit\\\\OneDrive\\\\Desktop\\\\submissions\\\\test.csv\")\n",
    "print(test)\n",
    "test.dtypes"
   ]
  },
  {
   "cell_type": "markdown",
   "id": "1dc6ba87-b01f-4260-bebc-1da50e0e9dc6",
   "metadata": {},
   "source": [
    " Navigating the Missing Values in Train and Test"
   ]
  },
  {
   "cell_type": "code",
   "execution_count": 5,
   "id": "23bc8133-df45-4d19-bb84-25b86e6d5800",
   "metadata": {},
   "outputs": [
    {
     "data": {
      "text/plain": [
       "case_id                               0\n",
       "Hospital_code                         0\n",
       "Hospital_type_code                    0\n",
       "City_Code_Hospital                    0\n",
       "Hospital_region_code                  0\n",
       "Available Extra Rooms in Hospital     0\n",
       "Department                            0\n",
       "Ward_Type                             0\n",
       "Ward_Facility_Code                    0\n",
       "Bed Grade                             2\n",
       "patientid                             0\n",
       "City_Code_Patient                    42\n",
       "Type of Admission                     0\n",
       "Severity of Illness                   0\n",
       "Visitors with Patient                 0\n",
       "Age                                   0\n",
       "Admission_Deposit                     0\n",
       "Stay                                  0\n",
       "dtype: int64"
      ]
     },
     "execution_count": 5,
     "metadata": {},
     "output_type": "execute_result"
    }
   ],
   "source": [
    "train.isnull().sum()"
   ]
  },
  {
   "cell_type": "code",
   "execution_count": 6,
   "id": "66a66f60-855d-46e0-98d4-e5fae5c72c68",
   "metadata": {},
   "outputs": [
    {
     "data": {
      "text/plain": [
       "case_id                               0\n",
       "Hospital_code                         0\n",
       "Hospital_type_code                    0\n",
       "City_Code_Hospital                    0\n",
       "Hospital_region_code                  0\n",
       "Available Extra Rooms in Hospital     0\n",
       "Department                            0\n",
       "Ward_Type                             0\n",
       "Ward_Facility_Code                    0\n",
       "Bed Grade                             2\n",
       "patientid                             0\n",
       "City_Code_Patient                    21\n",
       "Type of Admission                     0\n",
       "Severity of Illness                   0\n",
       "Visitors with Patient                 0\n",
       "Age                                   0\n",
       "Admission_Deposit                     0\n",
       "dtype: int64"
      ]
     },
     "execution_count": 6,
     "metadata": {},
     "output_type": "execute_result"
    }
   ],
   "source": [
    "test.isnull().sum()"
   ]
  },
  {
   "cell_type": "markdown",
   "id": "9483c145-db80-48f0-9f7c-bbdca6fadfaf",
   "metadata": {},
   "source": [
    "Data Healing"
   ]
  },
  {
   "cell_type": "code",
   "execution_count": 12,
   "id": "51a5021d-768c-43e3-8a81-3eb2019d572c",
   "metadata": {},
   "outputs": [],
   "source": [
    "# Impute missing values in 'Bed Grade' with the mode\n",
    "bed_grade_mode = train['Bed Grade'].mode()[0]\n",
    "train['Bed Grade'].fillna(bed_grade_mode, inplace=True)\n",
    "\n",
    "# Impute missing values in 'City_Code_Patient' with the mode\n",
    "City_Code_Patient_mode = train['City_Code_Patient'].mode()[0]\n",
    "train['City_Code_Patient'].fillna(City_Code_Patient_mode, inplace=True)"
   ]
  },
  {
   "cell_type": "markdown",
   "id": "24a1087d-46e9-4265-b78b-20de1cc42e3f",
   "metadata": {},
   "source": [
    "Data Completeness"
   ]
  },
  {
   "cell_type": "code",
   "execution_count": 16,
   "id": "ffad24a8-c732-4355-853b-df6c19354f3f",
   "metadata": {},
   "outputs": [],
   "source": [
    "# Impute missing values in 'Bed Grade' with the mode\n",
    "bed_grade_mode = train['Bed Grade'].mode()[0]\n",
    "test['Bed Grade'].fillna(bed_grade_mode, inplace=True)\n",
    "\n",
    "# Impute missing values in 'City_Code_Patient' with the mode\n",
    "city_code_patient_mode = train['City_Code_Patient'].mode()[0]\n",
    "test['City_Code_Patient'].fillna(city_code_patient_mode, inplace=True)"
   ]
  },
  {
   "cell_type": "markdown",
   "id": "2b03619b-72cf-44bf-a9a6-8bf9c2fc7799",
   "metadata": {},
   "source": [
    " Transforming 'Stay' with LabelEncoder"
   ]
  },
  {
   "cell_type": "code",
   "execution_count": 17,
   "id": "c0fb6451-03a0-417e-84fd-198895f98422",
   "metadata": {},
   "outputs": [],
   "source": [
    "from sklearn.preprocessing import LabelEncoder\n",
    "le = LabelEncoder()\n",
    "\n",
    "\n",
    "test['Stay'] = -1"
   ]
  },
  {
   "cell_type": "markdown",
   "id": "9ba88f9b-9e77-4de7-b286-a6fd3764f0e7",
   "metadata": {},
   "source": [
    "Charting the Unknown"
   ]
  },
  {
   "cell_type": "code",
   "execution_count": 19,
   "id": "0fed9406-0908-48d4-ba1e-a035c63778eb",
   "metadata": {},
   "outputs": [],
   "source": [
    "from sklearn.preprocessing import LabelEncoder\n",
    "le = LabelEncoder()\n",
    "# Use fit_transform to encode the values in the 'Stay' column\n",
    "train['Stay'] = le.fit_transform(train['Stay'].astype('str'))\n",
    "\n"
   ]
  },
  {
   "cell_type": "markdown",
   "id": "7d2cf13c-a174-4992-a143-ddf8f3146c12",
   "metadata": {},
   "source": [
    "Data Convergence"
   ]
  },
  {
   "cell_type": "code",
   "execution_count": 20,
   "id": "947a0f60-ba05-45e0-a75a-842914c9ac36",
   "metadata": {},
   "outputs": [],
   "source": [
    "df = pd.concat([train, test], ignore_index=True)"
   ]
  },
  {
   "cell_type": "markdown",
   "id": "6105af91-e220-4bd6-8705-0b236a9dd9f1",
   "metadata": {},
   "source": [
    "Transforming Categories into Numbers"
   ]
  },
  {
   "cell_type": "code",
   "execution_count": 21,
   "id": "a0db3373-054b-403d-8576-63b3e0d280dc",
   "metadata": {},
   "outputs": [],
   "source": [
    "# List of categorical column names\n",
    "categorical_columns = ['Hospital_type_code', 'Hospital_region_code', 'Department', 'Ward_Type', 'Ward_Facility_Code', 'Type of Admission', 'Severity of Illness', 'Age']\n",
    "\n",
    "# Iterate through the list of categorical columns\n",
    "for column in categorical_columns:\n",
    "    le = LabelEncoder()  \n",
    "    df[column] = le.fit_transform(df[column].astype(str))"
   ]
  },
  {
   "cell_type": "markdown",
   "id": "cf428711-db1a-495a-b359-977ea7473039",
   "metadata": {},
   "source": [
    "Data Segmentation"
   ]
  },
  {
   "cell_type": "code",
   "execution_count": 22,
   "id": "4e4db14c-922d-43af-82ef-07b565ccae8a",
   "metadata": {},
   "outputs": [],
   "source": [
    "train = df[df['Stay'] != -1]"
   ]
  },
  {
   "cell_type": "markdown",
   "id": "456d0b3a-e0dd-4764-9b59-c50d5f5ac9ee",
   "metadata": {},
   "source": [
    "Preparation for Prediction"
   ]
  },
  {
   "cell_type": "code",
   "execution_count": 23,
   "id": "20f0ae5e-0c78-4314-856f-59b0eb1315a6",
   "metadata": {},
   "outputs": [],
   "source": [
    "test = df[df['Stay'] == -1]"
   ]
  },
  {
   "cell_type": "markdown",
   "id": "06b8f8b5-337d-4a2c-8ba5-1036ccb21aaf",
   "metadata": {},
   "source": [
    "Feature Engineering for Enhanced Predictive Analysis"
   ]
  },
  {
   "cell_type": "code",
   "execution_count": 24,
   "id": "35c00290-f516-4aea-ba20-cf11f17e4f6d",
   "metadata": {},
   "outputs": [
    {
     "data": {
      "text/html": [
       "<div>\n",
       "<style scoped>\n",
       "    .dataframe tbody tr th:only-of-type {\n",
       "        vertical-align: middle;\n",
       "    }\n",
       "\n",
       "    .dataframe tbody tr th {\n",
       "        vertical-align: top;\n",
       "    }\n",
       "\n",
       "    .dataframe thead th {\n",
       "        text-align: right;\n",
       "    }\n",
       "</style>\n",
       "<table border=\"1\" class=\"dataframe\">\n",
       "  <thead>\n",
       "    <tr style=\"text-align: right;\">\n",
       "      <th></th>\n",
       "      <th>case_id</th>\n",
       "      <th>Hospital_code</th>\n",
       "      <th>Hospital_type_code</th>\n",
       "      <th>City_Code_Hospital</th>\n",
       "      <th>Available Extra Rooms in Hospital</th>\n",
       "      <th>Department</th>\n",
       "      <th>Ward_Type</th>\n",
       "      <th>Bed Grade</th>\n",
       "      <th>City_Code_Patient</th>\n",
       "      <th>Type of Admission</th>\n",
       "      <th>Severity of Illness</th>\n",
       "      <th>Visitors with Patient</th>\n",
       "      <th>Age</th>\n",
       "      <th>Admission_Deposit</th>\n",
       "      <th>count_id_patient</th>\n",
       "      <th>count_id_patient_hospitalCode</th>\n",
       "      <th>count_id_patient_wardfacilityCode</th>\n",
       "    </tr>\n",
       "  </thead>\n",
       "  <tbody>\n",
       "    <tr>\n",
       "      <th>0</th>\n",
       "      <td>318439</td>\n",
       "      <td>21</td>\n",
       "      <td>2</td>\n",
       "      <td>3</td>\n",
       "      <td>3</td>\n",
       "      <td>2</td>\n",
       "      <td>3</td>\n",
       "      <td>2.0</td>\n",
       "      <td>2.0</td>\n",
       "      <td>0</td>\n",
       "      <td>2</td>\n",
       "      <td>2</td>\n",
       "      <td>7</td>\n",
       "      <td>3095.0</td>\n",
       "      <td>7.0</td>\n",
       "      <td>1.0</td>\n",
       "      <td>1.0</td>\n",
       "    </tr>\n",
       "    <tr>\n",
       "      <th>1</th>\n",
       "      <td>318440</td>\n",
       "      <td>29</td>\n",
       "      <td>0</td>\n",
       "      <td>4</td>\n",
       "      <td>2</td>\n",
       "      <td>2</td>\n",
       "      <td>3</td>\n",
       "      <td>2.0</td>\n",
       "      <td>2.0</td>\n",
       "      <td>1</td>\n",
       "      <td>2</td>\n",
       "      <td>4</td>\n",
       "      <td>7</td>\n",
       "      <td>4018.0</td>\n",
       "      <td>7.0</td>\n",
       "      <td>4.0</td>\n",
       "      <td>4.0</td>\n",
       "    </tr>\n",
       "    <tr>\n",
       "      <th>2</th>\n",
       "      <td>318441</td>\n",
       "      <td>26</td>\n",
       "      <td>1</td>\n",
       "      <td>2</td>\n",
       "      <td>3</td>\n",
       "      <td>2</td>\n",
       "      <td>1</td>\n",
       "      <td>4.0</td>\n",
       "      <td>2.0</td>\n",
       "      <td>0</td>\n",
       "      <td>2</td>\n",
       "      <td>3</td>\n",
       "      <td>7</td>\n",
       "      <td>4492.0</td>\n",
       "      <td>7.0</td>\n",
       "      <td>2.0</td>\n",
       "      <td>2.0</td>\n",
       "    </tr>\n",
       "    <tr>\n",
       "      <th>3</th>\n",
       "      <td>318442</td>\n",
       "      <td>6</td>\n",
       "      <td>0</td>\n",
       "      <td>6</td>\n",
       "      <td>3</td>\n",
       "      <td>2</td>\n",
       "      <td>1</td>\n",
       "      <td>2.0</td>\n",
       "      <td>2.0</td>\n",
       "      <td>1</td>\n",
       "      <td>2</td>\n",
       "      <td>3</td>\n",
       "      <td>7</td>\n",
       "      <td>4173.0</td>\n",
       "      <td>7.0</td>\n",
       "      <td>4.0</td>\n",
       "      <td>4.0</td>\n",
       "    </tr>\n",
       "    <tr>\n",
       "      <th>4</th>\n",
       "      <td>318443</td>\n",
       "      <td>28</td>\n",
       "      <td>1</td>\n",
       "      <td>11</td>\n",
       "      <td>2</td>\n",
       "      <td>2</td>\n",
       "      <td>2</td>\n",
       "      <td>2.0</td>\n",
       "      <td>2.0</td>\n",
       "      <td>1</td>\n",
       "      <td>2</td>\n",
       "      <td>4</td>\n",
       "      <td>7</td>\n",
       "      <td>4161.0</td>\n",
       "      <td>7.0</td>\n",
       "      <td>4.0</td>\n",
       "      <td>4.0</td>\n",
       "    </tr>\n",
       "    <tr>\n",
       "      <th>...</th>\n",
       "      <td>...</td>\n",
       "      <td>...</td>\n",
       "      <td>...</td>\n",
       "      <td>...</td>\n",
       "      <td>...</td>\n",
       "      <td>...</td>\n",
       "      <td>...</td>\n",
       "      <td>...</td>\n",
       "      <td>...</td>\n",
       "      <td>...</td>\n",
       "      <td>...</td>\n",
       "      <td>...</td>\n",
       "      <td>...</td>\n",
       "      <td>...</td>\n",
       "      <td>...</td>\n",
       "      <td>...</td>\n",
       "      <td>...</td>\n",
       "    </tr>\n",
       "    <tr>\n",
       "      <th>1995</th>\n",
       "      <td>320434</td>\n",
       "      <td>26</td>\n",
       "      <td>1</td>\n",
       "      <td>2</td>\n",
       "      <td>1</td>\n",
       "      <td>1</td>\n",
       "      <td>2</td>\n",
       "      <td>2.0</td>\n",
       "      <td>8.0</td>\n",
       "      <td>1</td>\n",
       "      <td>0</td>\n",
       "      <td>4</td>\n",
       "      <td>5</td>\n",
       "      <td>8829.0</td>\n",
       "      <td>5.0</td>\n",
       "      <td>2.0</td>\n",
       "      <td>2.0</td>\n",
       "    </tr>\n",
       "    <tr>\n",
       "      <th>1996</th>\n",
       "      <td>320435</td>\n",
       "      <td>26</td>\n",
       "      <td>1</td>\n",
       "      <td>2</td>\n",
       "      <td>4</td>\n",
       "      <td>2</td>\n",
       "      <td>2</td>\n",
       "      <td>1.0</td>\n",
       "      <td>8.0</td>\n",
       "      <td>1</td>\n",
       "      <td>0</td>\n",
       "      <td>6</td>\n",
       "      <td>5</td>\n",
       "      <td>3507.0</td>\n",
       "      <td>5.0</td>\n",
       "      <td>2.0</td>\n",
       "      <td>2.0</td>\n",
       "    </tr>\n",
       "    <tr>\n",
       "      <th>1997</th>\n",
       "      <td>320436</td>\n",
       "      <td>23</td>\n",
       "      <td>0</td>\n",
       "      <td>6</td>\n",
       "      <td>3</td>\n",
       "      <td>2</td>\n",
       "      <td>1</td>\n",
       "      <td>1.0</td>\n",
       "      <td>8.0</td>\n",
       "      <td>1</td>\n",
       "      <td>0</td>\n",
       "      <td>3</td>\n",
       "      <td>5</td>\n",
       "      <td>4109.0</td>\n",
       "      <td>5.0</td>\n",
       "      <td>3.0</td>\n",
       "      <td>1.0</td>\n",
       "    </tr>\n",
       "    <tr>\n",
       "      <th>1998</th>\n",
       "      <td>320437</td>\n",
       "      <td>25</td>\n",
       "      <td>4</td>\n",
       "      <td>1</td>\n",
       "      <td>4</td>\n",
       "      <td>2</td>\n",
       "      <td>1</td>\n",
       "      <td>3.0</td>\n",
       "      <td>8.0</td>\n",
       "      <td>0</td>\n",
       "      <td>0</td>\n",
       "      <td>4</td>\n",
       "      <td>5</td>\n",
       "      <td>4155.0</td>\n",
       "      <td>5.0</td>\n",
       "      <td>3.0</td>\n",
       "      <td>2.0</td>\n",
       "    </tr>\n",
       "    <tr>\n",
       "      <th>1999</th>\n",
       "      <td>320438</td>\n",
       "      <td>10</td>\n",
       "      <td>4</td>\n",
       "      <td>1</td>\n",
       "      <td>4</td>\n",
       "      <td>2</td>\n",
       "      <td>1</td>\n",
       "      <td>2.0</td>\n",
       "      <td>8.0</td>\n",
       "      <td>0</td>\n",
       "      <td>0</td>\n",
       "      <td>3</td>\n",
       "      <td>5</td>\n",
       "      <td>4161.0</td>\n",
       "      <td>5.0</td>\n",
       "      <td>3.0</td>\n",
       "      <td>2.0</td>\n",
       "    </tr>\n",
       "  </tbody>\n",
       "</table>\n",
       "<p>2000 rows × 17 columns</p>\n",
       "</div>"
      ],
      "text/plain": [
       "      case_id  Hospital_code  Hospital_type_code  City_Code_Hospital  \\\n",
       "0      318439             21                   2                   3   \n",
       "1      318440             29                   0                   4   \n",
       "2      318441             26                   1                   2   \n",
       "3      318442              6                   0                   6   \n",
       "4      318443             28                   1                  11   \n",
       "...       ...            ...                 ...                 ...   \n",
       "1995   320434             26                   1                   2   \n",
       "1996   320435             26                   1                   2   \n",
       "1997   320436             23                   0                   6   \n",
       "1998   320437             25                   4                   1   \n",
       "1999   320438             10                   4                   1   \n",
       "\n",
       "      Available Extra Rooms in Hospital  Department  Ward_Type  Bed Grade  \\\n",
       "0                                     3           2          3        2.0   \n",
       "1                                     2           2          3        2.0   \n",
       "2                                     3           2          1        4.0   \n",
       "3                                     3           2          1        2.0   \n",
       "4                                     2           2          2        2.0   \n",
       "...                                 ...         ...        ...        ...   \n",
       "1995                                  1           1          2        2.0   \n",
       "1996                                  4           2          2        1.0   \n",
       "1997                                  3           2          1        1.0   \n",
       "1998                                  4           2          1        3.0   \n",
       "1999                                  4           2          1        2.0   \n",
       "\n",
       "      City_Code_Patient  Type of Admission  Severity of Illness  \\\n",
       "0                   2.0                  0                    2   \n",
       "1                   2.0                  1                    2   \n",
       "2                   2.0                  0                    2   \n",
       "3                   2.0                  1                    2   \n",
       "4                   2.0                  1                    2   \n",
       "...                 ...                ...                  ...   \n",
       "1995                8.0                  1                    0   \n",
       "1996                8.0                  1                    0   \n",
       "1997                8.0                  1                    0   \n",
       "1998                8.0                  0                    0   \n",
       "1999                8.0                  0                    0   \n",
       "\n",
       "      Visitors with Patient  Age  Admission_Deposit  count_id_patient  \\\n",
       "0                         2    7             3095.0               7.0   \n",
       "1                         4    7             4018.0               7.0   \n",
       "2                         3    7             4492.0               7.0   \n",
       "3                         3    7             4173.0               7.0   \n",
       "4                         4    7             4161.0               7.0   \n",
       "...                     ...  ...                ...               ...   \n",
       "1995                      4    5             8829.0               5.0   \n",
       "1996                      6    5             3507.0               5.0   \n",
       "1997                      3    5             4109.0               5.0   \n",
       "1998                      4    5             4155.0               5.0   \n",
       "1999                      3    5             4161.0               5.0   \n",
       "\n",
       "      count_id_patient_hospitalCode  count_id_patient_wardfacilityCode  \n",
       "0                               1.0                                1.0  \n",
       "1                               4.0                                4.0  \n",
       "2                               2.0                                2.0  \n",
       "3                               4.0                                4.0  \n",
       "4                               4.0                                4.0  \n",
       "...                             ...                                ...  \n",
       "1995                            2.0                                2.0  \n",
       "1996                            2.0                                2.0  \n",
       "1997                            3.0                                1.0  \n",
       "1998                            3.0                                2.0  \n",
       "1999                            3.0                                2.0  \n",
       "\n",
       "[2000 rows x 17 columns]"
      ]
     },
     "execution_count": 24,
     "metadata": {},
     "output_type": "execute_result"
    }
   ],
   "source": [
    "import numpy as np\n",
    "def get_countid_enocde(train, test, cols, name):\n",
    "  temp = train.groupby(cols)['case_id'].count().reset_index().rename(columns = {'case_id': name})\n",
    "  temp2 = test.groupby(cols)['case_id'].count().reset_index().rename(columns = {'case_id': name})\n",
    "  train = pd.merge(train, temp, how='left', on= cols)\n",
    "  test = pd.merge(test,temp2, how='left', on= cols)\n",
    "  train[name] = train[name].astype('float')\n",
    "  test[name] = test[name].astype('float')\n",
    "  train[name].fillna(np.median(temp[name]), inplace = True)\n",
    "  test[name].fillna(np.median(temp2[name]), inplace = True)\n",
    "  return train, test\n",
    "\n",
    "\n",
    "\n",
    "\n",
    "train, test = get_countid_enocde(train, test, ['patientid'], name = 'count_id_patient')\n",
    "train, test = get_countid_enocde(train, test,\n",
    "                                 ['patientid', 'Hospital_region_code'], name = 'count_id_patient_hospitalCode')\n",
    "train, test = get_countid_enocde(train, test,\n",
    "                                 ['patientid', 'Ward_Facility_Code'], name = 'count_id_patient_wardfacilityCode')\n",
    "\n",
    "\n",
    "# Create 'test1' DataFrame by dropping specified columns from 'test'\n",
    "test1 = test.drop(columns=['Stay','patientid','Hospital_region_code','Ward_Facility_Code'], axis=1)\n",
    "test1"
   ]
  },
  {
   "cell_type": "markdown",
   "id": "c68483d0-59d1-49ca-8e25-12cf5b8746ed",
   "metadata": {},
   "source": [
    "Sculpting the Data"
   ]
  },
  {
   "cell_type": "code",
   "execution_count": 25,
   "id": "34543827-11ea-4892-a47c-547f2a6744ab",
   "metadata": {},
   "outputs": [],
   "source": [
    "\n",
    "columns_to_drop_train = ['case_id', 'patientid', 'Hospital_region_code', 'Ward_Facility_Code']\n",
    "\n",
    "# Create 'train1' DataFrame by dropping specified columns from 'train'\n",
    "train1 = train.drop(columns=columns_to_drop_train, axis=1)"
   ]
  },
  {
   "cell_type": "markdown",
   "id": "3b976f60-2690-4cea-9106-5dd2761ef986",
   "metadata": {},
   "source": [
    "Data Splitting for Model Mastery"
   ]
  },
  {
   "cell_type": "code",
   "execution_count": 38,
   "id": "9484e792-d48c-4c7b-80af-87eacda1ad9b",
   "metadata": {},
   "outputs": [
    {
     "name": "stdout",
     "output_type": "stream",
     "text": [
      "X_train shape: (4000, 16)\n",
      "X_test shape: (1000, 16)\n",
      "y_train shape: (4000,)\n",
      "y_test shape: (1000,)\n"
     ]
    }
   ],
   "source": [
    "from sklearn.model_selection import train_test_split\n",
    "X1 = train1.drop(columns=['Stay'], axis=1)\n",
    "y1 = train1['Stay']\n",
    "# --- WRITE YOUR CODE FOR TASK 1 ---\n",
    "X_train, X_test, y_train, y_test =  train_test_split(X1, y1, test_size=0.2, random_state=100)\n",
    "\n",
    "print(\"X_train shape:\", X_train.shape)\n",
    "print(\"X_test shape:\", X_test.shape)\n",
    "print(\"y_train shape:\", y_train.shape)\n",
    "print(\"y_test shape:\", y_test.shape)"
   ]
  },
  {
   "cell_type": "markdown",
   "id": "a3a9a7ff-2010-4242-8134-f9bc63404221",
   "metadata": {},
   "source": [
    "The XGBoost Model Story"
   ]
  },
  {
   "cell_type": "code",
   "execution_count": 37,
   "id": "62cd3978-c319-49c2-86f8-7173e0e0fc58",
   "metadata": {},
   "outputs": [
    {
     "name": "stdout",
     "output_type": "stream",
     "text": [
      "0.396\n"
     ]
    }
   ],
   "source": [
    "import xgboost\n",
    "from sklearn.metrics import accuracy_score\n",
    "\n",
    "\n",
    "classifier_xgb = xgboost.XGBClassifier(max_depth=4, learning_rate=0.1, n_estimators=800,\n",
    "                                  objective='multi:softmax', reg_alpha=0.5, reg_lambda=1.5,\n",
    "                                  booster='gbtree', n_jobs=4, min_child_weight=2, base_score= 0.75)\n",
    "\n",
    "# --- WRITE YOUR CODE FOR TASK 2 ---\n",
    "model_xgb = classifier_xgb.fit(X_train, y_train)\n",
    "\n",
    "# Use the trained model to make predictions on the test data\n",
    "prediction_xgb = model_xgb.predict(X_test)\n",
    "\n",
    "# Calculate the accuracy of the XGBoost model's predictions\n",
    "acc_score_xgb = accuracy_score(y_test, prediction_xgb)\n",
    "\n",
    "\n",
    "print(acc_score_xgb)"
   ]
  },
  {
   "cell_type": "markdown",
   "id": "5815b099-cc36-4cc7-b261-9951893245f6",
   "metadata": {},
   "source": [
    "The Final Predictive Model Transformation"
   ]
  },
  {
   "cell_type": "code",
   "execution_count": 36,
   "id": "48242326-2577-4b50-899d-49a9fd27e148",
   "metadata": {},
   "outputs": [
    {
     "name": "stdout",
     "output_type": "stream",
     "text": [
      "      case_id   Stay\n",
      "0      318439  11-20\n",
      "1      318440  51-60\n",
      "2      318441  11-20\n",
      "3      318442  21-30\n",
      "4      318443  51-60\n",
      "...       ...    ...\n",
      "1995   320434  51-60\n",
      "1996   320435  71-80\n",
      "1997   320436  21-30\n",
      "1998   320437  11-20\n",
      "1999   320438  21-30\n",
      "\n",
      "[2000 rows x 2 columns]\n"
     ]
    }
   ],
   "source": [
    "\n",
    "label_mapping = {\n",
    "     0: '0-10', 1: '11-20', 2: '21-30', 3: '31-40', 4: '41-50',\n",
    "     5: '51-60', 6: '61-70', 7: '71-80', 8: '81-90', 9: '91-100',\n",
    "     10: 'More than 100 Days'\n",
    " }\n",
    "\n",
    "X_test1 = test1.drop(columns=['case_id'], axis=1)\n",
    "\n",
    "# Use the trained 'classifier_xgb' model to make predictions on 'test1'\n",
    "pred_xgb = classifier_xgb.predict(X_test1)\n",
    "\n",
    "result_xgb = pd.DataFrame({'case_id': test1['case_id'], 'Stay': pred_xgb})\n",
    "\n",
    "# Reorder the columns in 'result_xgb'\n",
    "result_xgb = result_xgb[['case_id', 'Stay']]\n",
    "\n",
    "# Replace numeric labels with provided categories in the 'Stay' column\n",
    "result_xgb['Stay'] = result_xgb['Stay'].replace(label_mapping)\n",
    "print(result_xgb)"
   ]
  },
  {
   "cell_type": "markdown",
   "id": "17b39c04-5c1b-4628-99a2-016836b8880e",
   "metadata": {},
   "source": [
    "Decoding Patient Stays"
   ]
  },
  {
   "cell_type": "code",
   "execution_count": 35,
   "id": "8ba46364-527e-4953-8480-750f01c0f4f9",
   "metadata": {},
   "outputs": [
    {
     "name": "stdout",
     "output_type": "stream",
     "text": [
      "Stay\n",
      "0-10                   60\n",
      "11-20                 375\n",
      "21-30                 869\n",
      "31-40                 246\n",
      "41-50                  32\n",
      "51-60                 301\n",
      "61-70                   7\n",
      "71-80                  49\n",
      "81-90                  27\n",
      "91-100                  6\n",
      "More than 100 Days     28\n",
      "Name: case_id, dtype: int64\n"
     ]
    }
   ],
   "source": [
    "# Group the data by unique 'Stay' values and calculate the number of unique 'case_id' values\n",
    "result = result_xgb.groupby('Stay')['case_id'].nunique()\n",
    "print(result)"
   ]
  },
  {
   "cell_type": "code",
   "execution_count": null,
   "id": "b9eccdfb-05b7-4aee-a443-26a51595b0a3",
   "metadata": {},
   "outputs": [],
   "source": []
  }
 ],
 "metadata": {
  "kernelspec": {
   "display_name": "Python 3 (ipykernel)",
   "language": "python",
   "name": "python3"
  },
  "language_info": {
   "codemirror_mode": {
    "name": "ipython",
    "version": 3
   },
   "file_extension": ".py",
   "mimetype": "text/x-python",
   "name": "python",
   "nbconvert_exporter": "python",
   "pygments_lexer": "ipython3",
   "version": "3.11.6"
  }
 },
 "nbformat": 4,
 "nbformat_minor": 5
}
